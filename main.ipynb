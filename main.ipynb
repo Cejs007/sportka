{
 "cells": [
  {
   "cell_type": "code",
   "execution_count": 1,
   "metadata": {},
   "outputs": [],
   "source": [
    "from funkce import losuj, vsad_cisla"
   ]
  },
  {
   "cell_type": "code",
   "execution_count": 3,
   "metadata": {},
   "outputs": [],
   "source": [
    "# uživatel si vsadí svá šťastná čísla\n",
    "stastna_cisla = vsad_cisla()"
   ]
  },
  {
   "cell_type": "code",
   "execution_count": 7,
   "metadata": {},
   "outputs": [
    {
     "data": {
      "text/plain": [
       "[5, 11, 13, 22, 33, 40]"
      ]
     },
     "execution_count": 7,
     "metadata": {},
     "output_type": "execute_result"
    }
   ],
   "source": [
    "stastna_cisla.sort()\n",
    "stastna_cisla"
   ]
  },
  {
   "cell_type": "code",
   "execution_count": null,
   "metadata": {},
   "outputs": [
    {
     "name": "stdout",
     "output_type": "stream",
     "text": [
      "Odehráno 100000!\n",
      "Odehráno 200000!\n",
      "Odehráno 300000!\n",
      "Odehráno 400000!\n",
      "Odehráno 500000!\n",
      "Odehráno 600000!\n",
      "Odehráno 700000!\n",
      "Odehráno 800000!\n",
      "Odehráno 900000!\n",
      "Odehráno 1000000!\n",
      "Odehráno 1100000!\n",
      "Odehráno 1200000!\n",
      "Odehráno 1300000!\n",
      "Odehráno 1400000!\n",
      "Odehráno 1500000!\n",
      "Odehráno 1600000!\n",
      "Odehráno 1700000!\n",
      "Odehráno 1800000!\n",
      "Odehráno 1900000!\n",
      "Odehráno 2000000!\n",
      "Odehráno 2100000!\n",
      "Odehráno 2200000!\n",
      "Odehráno 2300000!\n",
      "Odehráno 2400000!\n",
      "Odehráno 2500000!\n",
      "Odehráno 2600000!\n",
      "Odehráno 2700000!\n",
      "Odehráno 2800000!\n",
      "Odehráno 2900000!\n",
      "Odehráno 3000000!\n",
      "Odehráno 3100000!\n",
      "Odehráno 3200000!\n",
      "Odehráno 3300000!\n",
      "Odehráno 3400000!\n",
      "Odehráno 3500000!\n",
      "Odehráno 3600000!\n",
      "Odehráno 3700000!\n",
      "Odehráno 3800000!\n",
      "Odehráno 3900000!\n",
      "Odehráno 4000000!\n",
      "Odehráno 4100000!\n",
      "Odehráno 4200000!\n",
      "Odehráno 4300000!\n",
      "Odehráno 4400000!\n",
      "Odehráno 4500000!\n",
      "Odehráno 4600000!\n",
      "Odehráno 4700000!\n",
      "Odehráno 4800000!\n",
      "Odehráno 4900000!\n",
      "Odehráno 5000000!\n",
      "Odehráno 5100000!\n",
      "Odehráno 5200000!\n",
      "Odehráno 5300000!\n",
      "Odehráno 5400000!\n",
      "Odehráno 5500000!\n",
      "Odehráno 5600000!\n",
      "Odehráno 5700000!\n",
      "Odehráno 5800000!\n",
      "Odehráno 5900000!\n",
      "Odehráno 6000000!\n",
      "Odehráno 6100000!\n",
      "Odehráno 6200000!\n",
      "Odehráno 6300000!\n",
      "Odehráno 6400000!\n",
      "Odehráno 6500000!\n",
      "Odehráno 6600000!\n",
      "Odehráno 6700000!\n",
      "Odehráno 6800000!\n",
      "Odehráno 6900000!\n",
      "Odehráno 7000000!\n",
      "Odehráno 7100000!\n",
      "Odehráno 7200000!\n",
      "Odehráno 7300000!\n",
      "Odehráno 7400000!\n",
      "Odehráno 7500000!\n",
      "Odehráno 7600000!\n",
      "Odehráno 7700000!\n",
      "Odehráno 7800000!\n",
      "Odehráno 7900000!\n",
      "Odehráno 8000000!\n",
      "Odehráno 8100000!\n",
      "Odehráno 8200000!\n",
      "Odehráno 8300000!\n",
      "Odehráno 8400000!\n",
      "Odehráno 8500000!\n",
      "Odehráno 8600000!\n",
      "Odehráno 8700000!\n",
      "Odehráno 8800000!\n",
      "Odehráno 8900000!\n",
      "Odehráno 9000000!\n",
      "Odehráno 9100000!\n",
      "Odehráno 9200000!\n",
      "Odehráno 9300000!\n",
      "Odehráno 9400000!\n",
      "Odehráno 9500000!\n",
      "Odehráno 9600000!\n",
      "Odehráno 9700000!\n",
      "Odehráno 9800000!\n",
      "Odehráno 9900000!\n",
      "Odehráno 10000000!\n",
      "Odehráno 10100000!\n",
      "Odehráno 10200000!\n",
      "Odehráno 10300000!\n",
      "Odehráno 10400000!\n"
     ]
    }
   ],
   "source": [
    "losovana_cisla = [0] * 6\n",
    "pocet_her = 0\n",
    "while stastna_cisla != losovana_cisla:\n",
    "    losovana_cisla = losuj().sort()\n",
    "    pocet_her += 1\n",
    "    if pocet_her % 100000 == 0:\n",
    "        print(f\"Odehráno {pocet_her}!\")"
   ]
  },
  {
   "cell_type": "code",
   "execution_count": null,
   "metadata": {},
   "outputs": [],
   "source": []
  }
 ],
 "metadata": {
  "kernelspec": {
   "display_name": "prostredi",
   "language": "python",
   "name": "python3"
  },
  "language_info": {
   "codemirror_mode": {
    "name": "ipython",
    "version": 3
   },
   "file_extension": ".py",
   "mimetype": "text/x-python",
   "name": "python",
   "nbconvert_exporter": "python",
   "pygments_lexer": "ipython3",
   "version": "3.8.10"
  }
 },
 "nbformat": 4,
 "nbformat_minor": 2
}
